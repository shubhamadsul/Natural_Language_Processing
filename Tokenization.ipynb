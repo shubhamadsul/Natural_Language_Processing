{
 "cells": [
  {
   "cell_type": "markdown",
   "id": "304eb15a",
   "metadata": {},
   "source": [
    "**NLTK :** The Natural Language Toolkit (nltk) is a library in Python that provides tools to work with human language data (text). It is a popular library for working with text data in the field of natural language processing (NLP). The library contains a wide range of tools and resources, including tools for tokenization, part-of-speech tagging, stemming, and lemmatization, as well as tools for parsing and processing treebanks, WordNet, and other corpora. It also includes a collection of text data, including sample data and a number of large corpora, such as the Brown Corpus and the Penn Treebank. The library is widely used by researchers and practitioners working in NLP, and is an essential tool for many NLP tasks."
   ]
  },
  {
   "cell_type": "markdown",
   "id": "888068fb",
   "metadata": {},
   "source": [
    "To use the Natural Language Toolkit (nltk) library in your Python code, you will first need to install it. You can install nltk using pip, the Python package manager, by running the following command:\n",
    "!pip install nltk"
   ]
  },
  {
   "cell_type": "markdown",
   "id": "a591d948",
   "metadata": {},
   "source": [
    "Once you have installed nltk, you can import it into your code using the import statement:"
   ]
  },
  {
   "cell_type": "code",
   "execution_count": 1,
   "id": "94a95a1b",
   "metadata": {},
   "outputs": [],
   "source": [
    "import nltk"
   ]
  },
  {
   "cell_type": "markdown",
   "id": "e65079b0",
   "metadata": {},
   "source": [
    "This will give you access to all of the functions, classes, and data provided by the nltk library. You can then use these to perform various NLP tasks, such as tokenization, part-of-speech tagging, and parsing."
   ]
  },
  {
   "cell_type": "markdown",
   "id": "72d43855",
   "metadata": {},
   "source": [
    "The nltk.download() function is a function provided by the Natural Language Toolkit (nltk) library in Python that allows you to download a variety of data and resources that are provided with the library. When you call nltk.download(), it will open a graphical user interface (GUI) that allows you to select which data and resources you want to download. The data and resources that are available for download include sample data, corpora, and pretrained models, as well as other resources such as WordNet, the Punkt tokenizer, and the averaged perceptron tagger. Once you have selected the data and resources you want to download, the nltk.download() function will download and install them on your machine. You can then use these resources in your NLP tasks using the nltk library."
   ]
  },
  {
   "cell_type": "code",
   "execution_count": 2,
   "id": "44dc66d9",
   "metadata": {},
   "outputs": [
    {
     "name": "stdout",
     "output_type": "stream",
     "text": [
      "showing info https://raw.githubusercontent.com/nltk/nltk_data/gh-pages/index.xml\n",
      "showing info https://raw.githubusercontent.com/nltk/nltk_data/gh-pages/index.xml\n"
     ]
    },
    {
     "data": {
      "text/plain": [
       "True"
      ]
     },
     "execution_count": 2,
     "metadata": {},
     "output_type": "execute_result"
    }
   ],
   "source": [
    "nltk.download()"
   ]
  },
  {
   "cell_type": "markdown",
   "id": "52dba1aa",
   "metadata": {},
   "source": [
    "#### Tokenization of paragraphs/sentences"
   ]
  },
  {
   "cell_type": "code",
   "execution_count": 2,
   "id": "01addfbf",
   "metadata": {},
   "outputs": [],
   "source": [
    "text = \"\"\"Well, personally, if you ask me, I feel, you know, you have to be honest in life.\n",
    "        You have to be honest to yourself. You have to be practical.\n",
    "        You have to take risks in life, but at the same time, you have to be calculated.\n",
    "        You can’t just say, okay, I took a risky option at some point of time, you have to be ready with,\n",
    "        ready for the kind of talent that’s really needed to achieve what you want to achieve.\n",
    "        But at the same, you know, you have to take risks in life. So, for me, being honest in life is very important,\n",
    "        hard work that you have to put in, irrespective of what your profession is.\n",
    "        The hard work, the honesty, respecting the elders which I feel is the key.\n",
    "        You know, if you don’t respect the elders, be it your parents or be it anyone, you know,\n",
    "        it becomes very difficult to be successful in life.\n",
    "        Being humble, you know, try to be, when you enter let’s say any big building, you know,\n",
    "        right from the first man you meet to maybe the managing director, you have to be the same to each and every one.\n",
    "        So, that’s what life is all about. Go through the difficult periods, fight it out.\n",
    "        But if you can do it with a smile, you know, you will become part of maybe the 5% persons,\n",
    "        you know, who can actually do it. Because at times we crib about life, about the tough period,\n",
    "        but what’s important is to go through the tough period that actually make you a better human being.\"\"\""
   ]
  },
  {
   "cell_type": "code",
   "execution_count": 10,
   "id": "df832372",
   "metadata": {},
   "outputs": [
    {
     "data": {
      "text/plain": [
       "1501"
      ]
     },
     "execution_count": 10,
     "metadata": {},
     "output_type": "execute_result"
    }
   ],
   "source": [
    "len(text)"
   ]
  },
  {
   "cell_type": "markdown",
   "id": "220f3b28",
   "metadata": {},
   "source": [
    "**Tokenization :** Tokenization is the process of breaking a stream of text up into individual words, phrases, symbols, or other meaningful elements, known as tokens. The tokens can then be further processed, such as for the purpose of language modeling, machine translation, or information retrieval. Tokenization is a crucial preprocessing step in natural language processing (NLP) tasks, as it allows the relevant information in a text to be extracted and processed effectively. There are many different approaches to tokenization, depending on the desired characteristics of the tokens and the specific requirements of the task at hand. Some common approaches include using whitespace as a delimiter, using regular expressions to identify specific patterns, or using a predefined vocabulary of known tokens"
   ]
  },
  {
   "cell_type": "markdown",
   "id": "55348eb6",
   "metadata": {},
   "source": [
    "#### Tokenizing sentences"
   ]
  },
  {
   "cell_type": "code",
   "execution_count": 15,
   "id": "235815a0",
   "metadata": {},
   "outputs": [
    {
     "name": "stdout",
     "output_type": "stream",
     "text": [
      "['Well, personally, if you ask me, I feel, you know, you have to be honest in life.', 'You have to be honest to yourself.', 'You have to be practical.', 'You have to take risks in life, but at the same time, you have to be calculated.', 'You can’t just say, okay, I took a risky option at some point of time, you have to be ready with,\\n        ready for the kind of talent that’s really needed to achieve what you want to achieve.', 'But at the same, you know, you have to take risks in life.', 'So, for me, being honest in life is very important,\\n        hard work that you have to put in, irrespective of what your profession is.', 'The hard work, the honesty, respecting the elders which I feel is the key.', 'You know, if you don’t respect the elders, be it your parents or be it anyone, you know,\\n        it becomes very difficult to be successful in life.', 'Being humble, you know, try to be, when you enter let’s say any big building, you know,\\n        right from the first man you meet to maybe the managing director, you have to be the same to each and every one.', 'So, that’s what life is all about.', 'Go through the difficult periods, fight it out.', 'But if you can do it with a smile, you know, you will become part of maybe the 5% persons,\\n        you know, who can actually do it.', 'Because at times we crib about life, about the tough period,\\n        but what’s important is to go through the tough period that actually make you a better human being.']\n"
     ]
    }
   ],
   "source": [
    "sentences = nltk.sent_tokenize(text)\n",
    "print(sentences)"
   ]
  },
  {
   "cell_type": "code",
   "execution_count": 11,
   "id": "cc2157c9",
   "metadata": {},
   "outputs": [
    {
     "data": {
      "text/plain": [
       "14"
      ]
     },
     "execution_count": 11,
     "metadata": {},
     "output_type": "execute_result"
    }
   ],
   "source": [
    "len(sentences)"
   ]
  },
  {
   "cell_type": "markdown",
   "id": "10c52017",
   "metadata": {},
   "source": [
    "#### Tokenizing words"
   ]
  },
  {
   "cell_type": "code",
   "execution_count": 14,
   "id": "2f444697",
   "metadata": {},
   "outputs": [
    {
     "name": "stdout",
     "output_type": "stream",
     "text": [
      "['Well', ',', 'personally', ',', 'if', 'you', 'ask', 'me', ',', 'I', 'feel', ',', 'you', 'know', ',', 'you', 'have', 'to', 'be', 'honest', 'in', 'life', '.', 'You', 'have', 'to', 'be', 'honest', 'to', 'yourself', '.', 'You', 'have', 'to', 'be', 'practical', '.', 'You', 'have', 'to', 'take', 'risks', 'in', 'life', ',', 'but', 'at', 'the', 'same', 'time', ',', 'you', 'have', 'to', 'be', 'calculated', '.', 'You', 'can', '’', 't', 'just', 'say', ',', 'okay', ',', 'I', 'took', 'a', 'risky', 'option', 'at', 'some', 'point', 'of', 'time', ',', 'you', 'have', 'to', 'be', 'ready', 'with', ',', 'ready', 'for', 'the', 'kind', 'of', 'talent', 'that', '’', 's', 'really', 'needed', 'to', 'achieve', 'what', 'you', 'want', 'to', 'achieve', '.', 'But', 'at', 'the', 'same', ',', 'you', 'know', ',', 'you', 'have', 'to', 'take', 'risks', 'in', 'life', '.', 'So', ',', 'for', 'me', ',', 'being', 'honest', 'in', 'life', 'is', 'very', 'important', ',', 'hard', 'work', 'that', 'you', 'have', 'to', 'put', 'in', ',', 'irrespective', 'of', 'what', 'your', 'profession', 'is', '.', 'The', 'hard', 'work', ',', 'the', 'honesty', ',', 'respecting', 'the', 'elders', 'which', 'I', 'feel', 'is', 'the', 'key', '.', 'You', 'know', ',', 'if', 'you', 'don', '’', 't', 'respect', 'the', 'elders', ',', 'be', 'it', 'your', 'parents', 'or', 'be', 'it', 'anyone', ',', 'you', 'know', ',', 'it', 'becomes', 'very', 'difficult', 'to', 'be', 'successful', 'in', 'life', '.', 'Being', 'humble', ',', 'you', 'know', ',', 'try', 'to', 'be', ',', 'when', 'you', 'enter', 'let', '’', 's', 'say', 'any', 'big', 'building', ',', 'you', 'know', ',', 'right', 'from', 'the', 'first', 'man', 'you', 'meet', 'to', 'maybe', 'the', 'managing', 'director', ',', 'you', 'have', 'to', 'be', 'the', 'same', 'to', 'each', 'and', 'every', 'one', '.', 'So', ',', 'that', '’', 's', 'what', 'life', 'is', 'all', 'about', '.', 'Go', 'through', 'the', 'difficult', 'periods', ',', 'fight', 'it', 'out', '.', 'But', 'if', 'you', 'can', 'do', 'it', 'with', 'a', 'smile', ',', 'you', 'know', ',', 'you', 'will', 'become', 'part', 'of', 'maybe', 'the', '5', '%', 'persons', ',', 'you', 'know', ',', 'who', 'can', 'actually', 'do', 'it', '.', 'Because', 'at', 'times', 'we', 'crib', 'about', 'life', ',', 'about', 'the', 'tough', 'period', ',', 'but', 'what', '’', 's', 'important', 'is', 'to', 'go', 'through', 'the', 'tough', 'period', 'that', 'actually', 'make', 'you', 'a', 'better', 'human', 'being', '.']\n"
     ]
    }
   ],
   "source": [
    "words = nltk.word_tokenize(text)\n",
    "print(words)"
   ]
  },
  {
   "cell_type": "code",
   "execution_count": 12,
   "id": "e10ebbc6",
   "metadata": {},
   "outputs": [
    {
     "data": {
      "text/plain": [
       "336"
      ]
     },
     "execution_count": 12,
     "metadata": {},
     "output_type": "execute_result"
    }
   ],
   "source": [
    "len(words)"
   ]
  }
 ],
 "metadata": {
  "kernelspec": {
   "display_name": "Python 3 (ipykernel)",
   "language": "python",
   "name": "python3"
  },
  "language_info": {
   "codemirror_mode": {
    "name": "ipython",
    "version": 3
   },
   "file_extension": ".py",
   "mimetype": "text/x-python",
   "name": "python",
   "nbconvert_exporter": "python",
   "pygments_lexer": "ipython3",
   "version": "3.9.13"
  }
 },
 "nbformat": 4,
 "nbformat_minor": 5
}
